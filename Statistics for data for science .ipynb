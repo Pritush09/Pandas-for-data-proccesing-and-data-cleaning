{
 "cells": [
  {
   "cell_type": "code",
   "execution_count": 1,
   "id": "05802e91",
   "metadata": {},
   "outputs": [],
   "source": [
    "#What does a right skewed distribution mean?\n",
    "#Image result for right skewed distribution\n",
    "#In statistics, a positively skewed (or right-skewed) distribution is a type of distribution in which most \n",
    "#values ​​are clustered around the left tail of the distribution while the right tail of the distribution \n",
    "#is longer ."
   ]
  },
  {
   "cell_type": "code",
   "execution_count": null,
   "id": "628f8183",
   "metadata": {},
   "outputs": [],
   "source": []
  }
 ],
 "metadata": {
  "kernelspec": {
   "display_name": "Python 3 (ipykernel)",
   "language": "python",
   "name": "python3"
  },
  "language_info": {
   "codemirror_mode": {
    "name": "ipython",
    "version": 3
   },
   "file_extension": ".py",
   "mimetype": "text/x-python",
   "name": "python",
   "nbconvert_exporter": "python",
   "pygments_lexer": "ipython3",
   "version": "3.10.0"
  }
 },
 "nbformat": 4,
 "nbformat_minor": 5
}
