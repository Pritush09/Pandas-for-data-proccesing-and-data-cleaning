{
 "cells": [
  {
   "cell_type": "code",
   "execution_count": 1,
   "id": "ecaec31a",
   "metadata": {},
   "outputs": [],
   "source": [
    "import numpy as np\n",
    "import pandas as pd"
   ]
  },
  {
   "cell_type": "code",
   "execution_count": 3,
   "id": "0fae99a2",
   "metadata": {},
   "outputs": [],
   "source": [
    "df = pd.read_json(\"https://newsapi.org/v2/top-headlines?country=in&apiKey=0d11e00d56194e87aeb5987458226557\")"
   ]
  },
  {
   "cell_type": "code",
   "execution_count": 5,
   "id": "046fafc1",
   "metadata": {},
   "outputs": [
    {
     "data": {
      "text/plain": [
       "{'source': {'id': None, 'name': 'The Siasat Daily'},\n",
       " 'author': 'IANS',\n",
       " 'title': 'Apple gains huge share of smartphone brand switchers in US - The Siasat Daily',\n",
       " 'description': 'At least 73 per cent of the representatives said that tech giant Apple gained the most switchers while only 16 per cent goes to Samsung',\n",
       " 'url': 'https://www.siasat.com/apple-gains-huge-share-of-smartphone-brand-switchers-in-us-2352087/',\n",
       " 'urlToImage': 'https://cdn.siasat.com/wp-content/uploads/2022/06/accscv.jpg',\n",
       " 'publishedAt': '2022-06-19T06:10:00Z',\n",
       " 'content': 'San Francisco: At least 73 per cent of the representatives said that tech giant Apple gained the most switchers while only 16 per cent goes to Samsung in the US, says a report.\\r\\nAccording to new data… [+1215 chars]'}"
      ]
     },
     "execution_count": 5,
     "metadata": {},
     "output_type": "execute_result"
    }
   ],
   "source": [
    "df['articles'][0]"
   ]
  },
  {
   "cell_type": "markdown",
   "id": "2feca550",
   "metadata": {},
   "source": [
    "# SQl ka video se dekhlo"
   ]
  },
  {
   "cell_type": "code",
   "execution_count": null,
   "id": "41f2f744",
   "metadata": {},
   "outputs": [],
   "source": []
  }
 ],
 "metadata": {
  "kernelspec": {
   "display_name": "Python 3 (ipykernel)",
   "language": "python",
   "name": "python3"
  },
  "language_info": {
   "codemirror_mode": {
    "name": "ipython",
    "version": 3
   },
   "file_extension": ".py",
   "mimetype": "text/x-python",
   "name": "python",
   "nbconvert_exporter": "python",
   "pygments_lexer": "ipython3",
   "version": "3.10.0"
  }
 },
 "nbformat": 4,
 "nbformat_minor": 5
}
