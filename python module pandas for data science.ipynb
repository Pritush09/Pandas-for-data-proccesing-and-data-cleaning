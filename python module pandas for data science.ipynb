{
 "cells": [
  {
   "cell_type": "code",
   "execution_count": 1,
   "id": "e241f7b2",
   "metadata": {},
   "outputs": [],
   "source": [
    "import pandas as pd"
   ]
  },
  {
   "cell_type": "code",
   "execution_count": 2,
   "id": "64cdcb99",
   "metadata": {},
   "outputs": [],
   "source": [
    "import numpy as np"
   ]
  },
  {
   "cell_type": "code",
   "execution_count": 3,
   "id": "4d62c284",
   "metadata": {},
   "outputs": [
    {
     "name": "stdout",
     "output_type": "stream",
     "text": [
      "      calories  duration\n",
      "day1       420        50\n",
      "day2       380        40\n",
      "day3       390        45\n"
     ]
    }
   ],
   "source": [
    "data = {\n",
    "  \"calories\": [420, 380, 390],\n",
    "  \"duration\": [50, 40, 45]\n",
    "}\n",
    "\n",
    "#load data into a DataFrame object:\n",
    "df = pd.DataFrame(data,index = [\"day1\",\"day2\",\"day3\"])\n",
    "\n",
    "print(df) "
   ]
  },
  {
   "cell_type": "code",
   "execution_count": 4,
   "id": "114cc8f0",
   "metadata": {},
   "outputs": [
    {
     "data": {
      "text/html": [
       "<div>\n",
       "<style scoped>\n",
       "    .dataframe tbody tr th:only-of-type {\n",
       "        vertical-align: middle;\n",
       "    }\n",
       "\n",
       "    .dataframe tbody tr th {\n",
       "        vertical-align: top;\n",
       "    }\n",
       "\n",
       "    .dataframe thead th {\n",
       "        text-align: right;\n",
       "    }\n",
       "</style>\n",
       "<table border=\"1\" class=\"dataframe\">\n",
       "  <thead>\n",
       "    <tr style=\"text-align: right;\">\n",
       "      <th></th>\n",
       "      <th>calories</th>\n",
       "      <th>duration</th>\n",
       "    </tr>\n",
       "  </thead>\n",
       "  <tbody>\n",
       "    <tr>\n",
       "      <th>day1</th>\n",
       "      <td>420</td>\n",
       "      <td>50</td>\n",
       "    </tr>\n",
       "    <tr>\n",
       "      <th>day3</th>\n",
       "      <td>390</td>\n",
       "      <td>45</td>\n",
       "    </tr>\n",
       "  </tbody>\n",
       "</table>\n",
       "</div>"
      ],
      "text/plain": [
       "      calories  duration\n",
       "day1       420        50\n",
       "day3       390        45"
      ]
     },
     "execution_count": 4,
     "metadata": {},
     "output_type": "execute_result"
    }
   ],
   "source": [
    "df.loc[[\"day1\",\"day3\"]]#hamesha string me likhna warna nahi leta he"
   ]
  },
  {
   "cell_type": "markdown",
   "id": "51df1432",
   "metadata": {},
   "source": [
    "A simple way to store big data sets is to use CSV files (comma separated files).\n",
    "\n",
    "CSV files contains plain text and is a well know format that can be read by everyone including Pandas.\n",
    "\n",
    "In our examples we will be using a CSV file called 'data.csv'.\n",
    "\n",
    "Download data.csv. or Open data.csv"
   ]
  },
  {
   "cell_type": "code",
   "execution_count": 5,
   "id": "56a6d515",
   "metadata": {
    "scrolled": true
   },
   "outputs": [
    {
     "data": {
      "text/html": [
       "<div>\n",
       "<style scoped>\n",
       "    .dataframe tbody tr th:only-of-type {\n",
       "        vertical-align: middle;\n",
       "    }\n",
       "\n",
       "    .dataframe tbody tr th {\n",
       "        vertical-align: top;\n",
       "    }\n",
       "\n",
       "    .dataframe thead th {\n",
       "        text-align: right;\n",
       "    }\n",
       "</style>\n",
       "<table border=\"1\" class=\"dataframe\">\n",
       "  <thead>\n",
       "    <tr style=\"text-align: right;\">\n",
       "      <th></th>\n",
       "      <th>Date</th>\n",
       "      <th>Open</th>\n",
       "      <th>High</th>\n",
       "      <th>Low</th>\n",
       "      <th>Close</th>\n",
       "      <th>Shares Traded</th>\n",
       "      <th>Turnover (Rs. Cr)</th>\n",
       "    </tr>\n",
       "  </thead>\n",
       "  <tbody>\n",
       "    <tr>\n",
       "      <th>0</th>\n",
       "      <td>15-Jul-21</td>\n",
       "      <td>15872.15</td>\n",
       "      <td>15952.35</td>\n",
       "      <td>15855.00</td>\n",
       "      <td>15924.20</td>\n",
       "      <td>284851049</td>\n",
       "      <td>20961.37</td>\n",
       "    </tr>\n",
       "    <tr>\n",
       "      <th>1</th>\n",
       "      <td>16-Jul-21</td>\n",
       "      <td>15958.35</td>\n",
       "      <td>15962.25</td>\n",
       "      <td>15882.60</td>\n",
       "      <td>15923.40</td>\n",
       "      <td>276298105</td>\n",
       "      <td>18758.13</td>\n",
       "    </tr>\n",
       "    <tr>\n",
       "      <th>2</th>\n",
       "      <td>19-Jul-21</td>\n",
       "      <td>15754.50</td>\n",
       "      <td>15836.90</td>\n",
       "      <td>15707.50</td>\n",
       "      <td>15752.40</td>\n",
       "      <td>242131813</td>\n",
       "      <td>18088.78</td>\n",
       "    </tr>\n",
       "    <tr>\n",
       "      <th>3</th>\n",
       "      <td>20-Jul-21</td>\n",
       "      <td>15703.95</td>\n",
       "      <td>15728.45</td>\n",
       "      <td>15578.55</td>\n",
       "      <td>15632.10</td>\n",
       "      <td>274284165</td>\n",
       "      <td>21329.55</td>\n",
       "    </tr>\n",
       "    <tr>\n",
       "      <th>4</th>\n",
       "      <td>22-Jul-21</td>\n",
       "      <td>15736.60</td>\n",
       "      <td>15834.80</td>\n",
       "      <td>15726.40</td>\n",
       "      <td>15824.05</td>\n",
       "      <td>265250867</td>\n",
       "      <td>23988.39</td>\n",
       "    </tr>\n",
       "    <tr>\n",
       "      <th>...</th>\n",
       "      <td>...</td>\n",
       "      <td>...</td>\n",
       "      <td>...</td>\n",
       "      <td>...</td>\n",
       "      <td>...</td>\n",
       "      <td>...</td>\n",
       "      <td>...</td>\n",
       "    </tr>\n",
       "    <tr>\n",
       "      <th>88</th>\n",
       "      <td>24-Nov-21</td>\n",
       "      <td>17550.05</td>\n",
       "      <td>17600.60</td>\n",
       "      <td>17354.00</td>\n",
       "      <td>17415.05</td>\n",
       "      <td>298052158</td>\n",
       "      <td>23766.93</td>\n",
       "    </tr>\n",
       "    <tr>\n",
       "      <th>89</th>\n",
       "      <td>25-Nov-21</td>\n",
       "      <td>17417.30</td>\n",
       "      <td>17564.35</td>\n",
       "      <td>17351.70</td>\n",
       "      <td>17536.25</td>\n",
       "      <td>255947032</td>\n",
       "      <td>21953.33</td>\n",
       "    </tr>\n",
       "    <tr>\n",
       "      <th>90</th>\n",
       "      <td>26-Nov-21</td>\n",
       "      <td>17338.75</td>\n",
       "      <td>17355.40</td>\n",
       "      <td>16985.70</td>\n",
       "      <td>17026.45</td>\n",
       "      <td>356330009</td>\n",
       "      <td>28485.53</td>\n",
       "    </tr>\n",
       "    <tr>\n",
       "      <th>91</th>\n",
       "      <td>29-Nov-21</td>\n",
       "      <td>17055.80</td>\n",
       "      <td>17160.70</td>\n",
       "      <td>16782.40</td>\n",
       "      <td>17053.95</td>\n",
       "      <td>348888750</td>\n",
       "      <td>27428.2</td>\n",
       "    </tr>\n",
       "    <tr>\n",
       "      <th>92</th>\n",
       "      <td>30-Nov-21</td>\n",
       "      <td>17051.15</td>\n",
       "      <td>17324.65</td>\n",
       "      <td>16931.40</td>\n",
       "      <td>16983.20</td>\n",
       "      <td>497999836</td>\n",
       "      <td>41494.9</td>\n",
       "    </tr>\n",
       "  </tbody>\n",
       "</table>\n",
       "<p>93 rows × 7 columns</p>\n",
       "</div>"
      ],
      "text/plain": [
       "         Date      Open      High       Low     Close Shares Traded  \\\n",
       "0   15-Jul-21  15872.15  15952.35  15855.00  15924.20     284851049   \n",
       "1   16-Jul-21  15958.35  15962.25  15882.60  15923.40     276298105   \n",
       "2   19-Jul-21  15754.50  15836.90  15707.50  15752.40     242131813   \n",
       "3   20-Jul-21  15703.95  15728.45  15578.55  15632.10     274284165   \n",
       "4   22-Jul-21  15736.60  15834.80  15726.40  15824.05     265250867   \n",
       "..        ...       ...       ...       ...       ...           ...   \n",
       "88  24-Nov-21  17550.05  17600.60  17354.00  17415.05     298052158   \n",
       "89  25-Nov-21  17417.30  17564.35  17351.70  17536.25     255947032   \n",
       "90  26-Nov-21  17338.75  17355.40  16985.70  17026.45     356330009   \n",
       "91  29-Nov-21  17055.80  17160.70  16782.40  17053.95     348888750   \n",
       "92  30-Nov-21  17051.15  17324.65  16931.40  16983.20     497999836   \n",
       "\n",
       "   Turnover (Rs. Cr)  \n",
       "0           20961.37  \n",
       "1           18758.13  \n",
       "2           18088.78  \n",
       "3           21329.55  \n",
       "4           23988.39  \n",
       "..               ...  \n",
       "88          23766.93  \n",
       "89          21953.33  \n",
       "90          28485.53  \n",
       "91           27428.2  \n",
       "92           41494.9  \n",
       "\n",
       "[93 rows x 7 columns]"
      ]
     },
     "execution_count": 5,
     "metadata": {},
     "output_type": "execute_result"
    }
   ],
   "source": [
    "data1 = pd.read_csv(\"data.csv\")\n",
    "data1"
   ]
  },
  {
   "cell_type": "markdown",
   "id": "67c2c81a",
   "metadata": {},
   "source": [
    "use to_string() to print the entire DataFrame."
   ]
  },
  {
   "cell_type": "code",
   "execution_count": 6,
   "id": "6741da5a",
   "metadata": {},
   "outputs": [
    {
     "name": "stdout",
     "output_type": "stream",
     "text": [
      "0     284851049\n",
      "1     276298105\n",
      "2     242131813\n",
      "3     274284165\n",
      "4     265250867\n",
      "        ...    \n",
      "88    298052158\n",
      "89    255947032\n",
      "90    356330009\n",
      "91    348888750\n",
      "92    497999836\n",
      "Name: Shares Traded, Length: 93, dtype: category\n",
      "Categories (93, object): ['-', '217405743', '228045532', '230354386', ..., '506679748', '508285916', '538714440', '562237732']\n"
     ]
    }
   ],
   "source": [
    "print(data1[\"Shares Traded\"].astype(\"category\"))#it help us to save the memory usage and it also help in faster processing of thr data "
   ]
  },
  {
   "cell_type": "code",
   "execution_count": 7,
   "id": "62d37d31",
   "metadata": {
    "scrolled": true
   },
   "outputs": [
    {
     "name": "stdout",
     "output_type": "stream",
     "text": [
      "<class 'pandas.core.frame.DataFrame'>\n",
      "RangeIndex: 93 entries, 0 to 92\n",
      "Data columns (total 7 columns):\n",
      " #   Column             Non-Null Count  Dtype  \n",
      "---  ------             --------------  -----  \n",
      " 0   Date               93 non-null     object \n",
      " 1   Open               93 non-null     float64\n",
      " 2   High               93 non-null     float64\n",
      " 3   Low                93 non-null     float64\n",
      " 4   Close              93 non-null     float64\n",
      " 5   Shares Traded      93 non-null     object \n",
      " 6   Turnover (Rs. Cr)  93 non-null     object \n",
      "dtypes: float64(4), object(3)\n",
      "memory usage: 5.2+ KB\n"
     ]
    }
   ],
   "source": [
    "data1.info()#it does not inspect the object column fully it just look at it and does not goes deep into the objects"
   ]
  },
  {
   "cell_type": "code",
   "execution_count": 8,
   "id": "db6d0506",
   "metadata": {
    "scrolled": true
   },
   "outputs": [
    {
     "data": {
      "text/plain": [
       "Index                128\n",
       "Date                 744\n",
       "Open                 744\n",
       "High                 744\n",
       "Low                  744\n",
       "Close                744\n",
       "Shares Traded        744\n",
       "Turnover (Rs. Cr)    744\n",
       "dtype: int64"
      ]
     },
     "execution_count": 8,
     "metadata": {},
     "output_type": "execute_result"
    }
   ],
   "source": [
    "data1.memory_usage()#it is measuring in bytes  #it does not also goes deep into the objects "
   ]
  },
  {
   "cell_type": "code",
   "execution_count": 9,
   "id": "34244287",
   "metadata": {},
   "outputs": [
    {
     "data": {
      "text/plain": [
       "21393"
      ]
     },
     "execution_count": 9,
     "metadata": {},
     "output_type": "execute_result"
    }
   ],
   "source": [
    "##we can also sum up the whole bytes of space given by  the memory_usage function by using sum function\n",
    "data1.memory_usage(deep = True).sum()"
   ]
  },
  {
   "cell_type": "code",
   "execution_count": 10,
   "id": "197369a6",
   "metadata": {},
   "outputs": [
    {
     "data": {
      "text/plain": [
       "array(['15-Jul-21', '16-Jul-21', '19-Jul-21', '20-Jul-21', '22-Jul-21',\n",
       "       '23-Jul-21', '26-Jul-21', '27-Jul-21', '28-Jul-21', '29-Jul-21',\n",
       "       '30-Jul-21', '02-Aug-21', '03-Aug-21', '04-Aug-21', '05-Aug-21',\n",
       "       '06-Aug-21', '09-Aug-21', '10-Aug-21', '11-Aug-21', '12-Aug-21',\n",
       "       '13-Aug-21', '16-Aug-21', '17-Aug-21', '18-Aug-21', '20-Aug-21',\n",
       "       '23-Aug-21', '24-Aug-21', '25-Aug-21', '26-Aug-21', '27-Aug-21',\n",
       "       '30-Aug-21', '31-Aug-21', '01-Sep-21', '02-Sep-21', '03-Sep-21',\n",
       "       '06-Sep-21', '07-Sep-21', '08-Sep-21', '09-Sep-21', '13-Sep-21',\n",
       "       '14-Sep-21', '15-Sep-21', '16-Sep-21', '17-Sep-21', '20-Sep-21',\n",
       "       '21-Sep-21', '22-Sep-21', '23-Sep-21', '24-Sep-21', '27-Sep-21',\n",
       "       '28-Sep-21', '29-Sep-21', '30-Sep-21', '01-Oct-21', '04-Oct-21',\n",
       "       '05-Oct-21', '06-Oct-21', '07-Oct-21', '08-Oct-21', '11-Oct-21',\n",
       "       '12-Oct-21', '13-Oct-21', '14-Oct-21', '18-Oct-21', '19-Oct-21',\n",
       "       '20-Oct-21', '21-Oct-21', '22-Oct-21', '25-Oct-21', '26-Oct-21',\n",
       "       '27-Oct-21', '28-Oct-21', '29-Oct-21', '01-Nov-21', '02-Nov-21',\n",
       "       '03-Nov-21', '04-Nov-21', '08-Nov-21', '09-Nov-21', '10-Nov-21',\n",
       "       '11-Nov-21', '12-Nov-21', '15-Nov-21', '16-Nov-21', '17-Nov-21',\n",
       "       '18-Nov-21', '22-Nov-21', '23-Nov-21', '24-Nov-21', '25-Nov-21',\n",
       "       '26-Nov-21', '29-Nov-21', '30-Nov-21'], dtype=object)"
      ]
     },
     "execution_count": 10,
     "metadata": {},
     "output_type": "execute_result"
    }
   ],
   "source": [
    "data1.Date.unique()"
   ]
  },
  {
   "cell_type": "code",
   "execution_count": 11,
   "id": "0aa6893c",
   "metadata": {},
   "outputs": [
    {
     "data": {
      "text/plain": [
       "0     15-Jul-21\n",
       "1     16-Jul-21\n",
       "2     19-Jul-21\n",
       "3     20-Jul-21\n",
       "4     22-Jul-21\n",
       "        ...    \n",
       "88    24-Nov-21\n",
       "89    25-Nov-21\n",
       "90    26-Nov-21\n",
       "91    29-Nov-21\n",
       "92    30-Nov-21\n",
       "Name: Date, Length: 93, dtype: category\n",
       "Categories (93, object): ['01-Nov-21', '01-Oct-21', '01-Sep-21', '02-Aug-21', ..., '30-Jul-21', '30-Nov-21', '30-Sep-21', '31-Aug-21']"
      ]
     },
     "execution_count": 11,
     "metadata": {},
     "output_type": "execute_result"
    }
   ],
   "source": [
    "#we store our object in form of integer instead of string in category like a particular string is associated with a particular\n",
    "#string \n",
    "data1[\"Date\"].astype(\"category\")#isme tum bas ek baar dtore karke dekh rahe ho category dtype me esse likhne se change nahi hota he"
   ]
  },
  {
   "cell_type": "code",
   "execution_count": 12,
   "id": "48a0e06c",
   "metadata": {},
   "outputs": [],
   "source": [
    "#agar change karna he given column ka dtype toh \n",
    "data1['Date'] = data1.Date.astype('category')"
   ]
  },
  {
   "cell_type": "code",
   "execution_count": 13,
   "id": "084d6f21",
   "metadata": {},
   "outputs": [
    {
     "data": {
      "text/plain": [
       "0    38\n",
       "1    42\n",
       "2    51\n",
       "3    54\n",
       "4    59\n",
       "dtype: int8"
      ]
     },
     "execution_count": 13,
     "metadata": {},
     "output_type": "execute_result"
    }
   ],
   "source": [
    "data1.Date.cat.codes.head()#to see the in wg=hat format the category data type store the data"
   ]
  },
  {
   "cell_type": "code",
   "execution_count": 14,
   "id": "252caa60",
   "metadata": {},
   "outputs": [
    {
     "name": "stdout",
     "output_type": "stream",
     "text": [
      "<class 'pandas.core.frame.DataFrame'>\n",
      "RangeIndex: 93 entries, 0 to 92\n",
      "Data columns (total 7 columns):\n",
      " #   Column             Non-Null Count  Dtype   \n",
      "---  ------             --------------  -----   \n",
      " 0   Date               93 non-null     category\n",
      " 1   Open               93 non-null     float64 \n",
      " 2   High               93 non-null     float64 \n",
      " 3   Low                93 non-null     float64 \n",
      " 4   Close              93 non-null     float64 \n",
      " 5   Shares Traded      93 non-null     object  \n",
      " 6   Turnover (Rs. Cr)  93 non-null     object  \n",
      "dtypes: category(1), float64(4), object(2)\n",
      "memory usage: 23.0 KB\n"
     ]
    }
   ],
   "source": [
    "data1.info(memory_usage = \"deep\")#this give us the full memory usage of the data with which we are working on"
   ]
  },
  {
   "cell_type": "code",
   "execution_count": 15,
   "id": "f8c5df41",
   "metadata": {},
   "outputs": [
    {
     "data": {
      "text/plain": [
       "Index                 128\n",
       "Date                 8335\n",
       "Open                  744\n",
       "High                  744\n",
       "Low                   744\n",
       "Close                 744\n",
       "Shares Traded        6129\n",
       "Turnover (Rs. Cr)    6022\n",
       "dtype: int64"
      ]
     },
     "execution_count": 15,
     "metadata": {},
     "output_type": "execute_result"
    }
   ],
   "source": [
    "#if u want the memory usage fully then\n",
    "data1.memory_usage(deep = True)"
   ]
  },
  {
   "cell_type": "code",
   "execution_count": 16,
   "id": "0f3bed16",
   "metadata": {},
   "outputs": [
    {
     "data": {
      "text/html": [
       "<div>\n",
       "<style scoped>\n",
       "    .dataframe tbody tr th:only-of-type {\n",
       "        vertical-align: middle;\n",
       "    }\n",
       "\n",
       "    .dataframe tbody tr th {\n",
       "        vertical-align: top;\n",
       "    }\n",
       "\n",
       "    .dataframe thead th {\n",
       "        text-align: right;\n",
       "    }\n",
       "</style>\n",
       "<table border=\"1\" class=\"dataframe\">\n",
       "  <thead>\n",
       "    <tr style=\"text-align: right;\">\n",
       "      <th></th>\n",
       "      <th>ID</th>\n",
       "      <th>quality</th>\n",
       "    </tr>\n",
       "  </thead>\n",
       "  <tbody>\n",
       "    <tr>\n",
       "      <th>0</th>\n",
       "      <td>100</td>\n",
       "      <td>good</td>\n",
       "    </tr>\n",
       "    <tr>\n",
       "      <th>1</th>\n",
       "      <td>101</td>\n",
       "      <td>good</td>\n",
       "    </tr>\n",
       "    <tr>\n",
       "      <th>2</th>\n",
       "      <td>102</td>\n",
       "      <td>very good</td>\n",
       "    </tr>\n",
       "    <tr>\n",
       "      <th>3</th>\n",
       "      <td>103</td>\n",
       "      <td>excelent</td>\n",
       "    </tr>\n",
       "  </tbody>\n",
       "</table>\n",
       "</div>"
      ],
      "text/plain": [
       "    ID    quality\n",
       "0  100       good\n",
       "1  101       good\n",
       "2  102  very good\n",
       "3  103   excelent"
      ]
     },
     "execution_count": 16,
     "metadata": {},
     "output_type": "execute_result"
    }
   ],
   "source": [
    "c = pd.DataFrame({'ID':[100,101,102,103],'quality':['good','good','very good','excelent']})#\n",
    "\n",
    "c"
   ]
  },
  {
   "cell_type": "code",
   "execution_count": 17,
   "id": "2ef2c791",
   "metadata": {},
   "outputs": [
    {
     "data": {
      "text/html": [
       "<div>\n",
       "<style scoped>\n",
       "    .dataframe tbody tr th:only-of-type {\n",
       "        vertical-align: middle;\n",
       "    }\n",
       "\n",
       "    .dataframe tbody tr th {\n",
       "        vertical-align: top;\n",
       "    }\n",
       "\n",
       "    .dataframe thead th {\n",
       "        text-align: right;\n",
       "    }\n",
       "</style>\n",
       "<table border=\"1\" class=\"dataframe\">\n",
       "  <thead>\n",
       "    <tr style=\"text-align: right;\">\n",
       "      <th></th>\n",
       "      <th>ID</th>\n",
       "      <th>quality</th>\n",
       "    </tr>\n",
       "  </thead>\n",
       "  <tbody>\n",
       "    <tr>\n",
       "      <th>3</th>\n",
       "      <td>103</td>\n",
       "      <td>excelent</td>\n",
       "    </tr>\n",
       "    <tr>\n",
       "      <th>0</th>\n",
       "      <td>100</td>\n",
       "      <td>good</td>\n",
       "    </tr>\n",
       "    <tr>\n",
       "      <th>1</th>\n",
       "      <td>101</td>\n",
       "      <td>good</td>\n",
       "    </tr>\n",
       "    <tr>\n",
       "      <th>2</th>\n",
       "      <td>102</td>\n",
       "      <td>very good</td>\n",
       "    </tr>\n",
       "  </tbody>\n",
       "</table>\n",
       "</div>"
      ],
      "text/plain": [
       "    ID    quality\n",
       "3  103   excelent\n",
       "0  100       good\n",
       "1  101       good\n",
       "2  102  very good"
      ]
     },
     "execution_count": 17,
     "metadata": {},
     "output_type": "execute_result"
    }
   ],
   "source": [
    "c.sort_values(\"quality\")#we can see here it just simply sort the the given data alphabetically order "
   ]
  },
  {
   "cell_type": "code",
   "execution_count": 18,
   "id": "3eb77515",
   "metadata": {},
   "outputs": [],
   "source": [
    "c['quality']= c.quality.astype(\"category\")"
   ]
  },
  {
   "cell_type": "code",
   "execution_count": 19,
   "id": "4d5a5ae8",
   "metadata": {},
   "outputs": [],
   "source": [
    "#but to avoid it we convert it in the category type\n",
    "from pandas.api.types import CategoricalDtype\n",
    "#this is new format of doing it  earlier we simply give these arguments in astype function itself\n",
    "qualiy= CategoricalDtype(categories = ['good','very good','excelent'],ordered=True)\n",
    "c['quality']=c.quality.astype(qualiy)\n",
    "\n"
   ]
  },
  {
   "cell_type": "code",
   "execution_count": 25,
   "id": "f535611d",
   "metadata": {},
   "outputs": [
    {
     "data": {
      "text/plain": [
       "0         good\n",
       "1         good\n",
       "2    very good\n",
       "3     excelent\n",
       "Name: quality, dtype: category\n",
       "Categories (3, object): ['good' < 'very good' < 'excelent']"
      ]
     },
     "execution_count": 25,
     "metadata": {},
     "output_type": "execute_result"
    }
   ],
   "source": [
    "c.quality.astype(qualiy)"
   ]
  },
  {
   "cell_type": "code",
   "execution_count": 21,
   "id": "b4e29154",
   "metadata": {},
   "outputs": [
    {
     "data": {
      "text/html": [
       "<div>\n",
       "<style scoped>\n",
       "    .dataframe tbody tr th:only-of-type {\n",
       "        vertical-align: middle;\n",
       "    }\n",
       "\n",
       "    .dataframe tbody tr th {\n",
       "        vertical-align: top;\n",
       "    }\n",
       "\n",
       "    .dataframe thead th {\n",
       "        text-align: right;\n",
       "    }\n",
       "</style>\n",
       "<table border=\"1\" class=\"dataframe\">\n",
       "  <thead>\n",
       "    <tr style=\"text-align: right;\">\n",
       "      <th></th>\n",
       "      <th>ID</th>\n",
       "      <th>quality</th>\n",
       "    </tr>\n",
       "  </thead>\n",
       "  <tbody>\n",
       "    <tr>\n",
       "      <th>0</th>\n",
       "      <td>100</td>\n",
       "      <td>good</td>\n",
       "    </tr>\n",
       "    <tr>\n",
       "      <th>1</th>\n",
       "      <td>101</td>\n",
       "      <td>good</td>\n",
       "    </tr>\n",
       "    <tr>\n",
       "      <th>2</th>\n",
       "      <td>102</td>\n",
       "      <td>very good</td>\n",
       "    </tr>\n",
       "    <tr>\n",
       "      <th>3</th>\n",
       "      <td>103</td>\n",
       "      <td>excelent</td>\n",
       "    </tr>\n",
       "  </tbody>\n",
       "</table>\n",
       "</div>"
      ],
      "text/plain": [
       "    ID    quality\n",
       "0  100       good\n",
       "1  101       good\n",
       "2  102  very good\n",
       "3  103   excelent"
      ]
     },
     "execution_count": 21,
     "metadata": {},
     "output_type": "execute_result"
    }
   ],
   "source": [
    "#and now if we sort the values it will sort according to our given order\n",
    "c.sort_values('quality')"
   ]
  },
  {
   "cell_type": "code",
   "execution_count": 22,
   "id": "a45b661e",
   "metadata": {},
   "outputs": [
    {
     "name": "stdout",
     "output_type": "stream",
     "text": [
      "<class 'pandas.core.frame.DataFrame'>\n",
      "RangeIndex: 4 entries, 0 to 3\n",
      "Data columns (total 2 columns):\n",
      " #   Column   Non-Null Count  Dtype   \n",
      "---  ------   --------------  -----   \n",
      " 0   ID       4 non-null      int64   \n",
      " 1   quality  4 non-null      category\n",
      "dtypes: category(1), int64(1)\n",
      "memory usage: 296.0 bytes\n"
     ]
    }
   ],
   "source": [
    "c.info()"
   ]
  },
  {
   "cell_type": "code",
   "execution_count": null,
   "id": "51ffb967",
   "metadata": {},
   "outputs": [],
   "source": [
    "ini = int(input())\n",
    "for i in range(2 , ini):\n",
    "    if ini % i == 0:\n",
    "        print(\"not prime\")\n",
    "        break\n",
    "else:\n",
    "    print(\"prime number\")"
   ]
  },
  {
   "cell_type": "markdown",
   "id": "cd435b15",
   "metadata": {},
   "source": [
    "\n",
    "\n",
    "\n",
    "The number of rows returned is defined in Pandas option settings.\n",
    "\n",
    "You can check your system's maximum rows with the pd.options.display.max_rows statement."
   ]
  },
  {
   "cell_type": "code",
   "execution_count": 24,
   "id": "80b220f5",
   "metadata": {},
   "outputs": [
    {
     "name": "stdout",
     "output_type": "stream",
     "text": [
      "60\n"
     ]
    }
   ],
   "source": [
    "print(pd.options.display.max_rows) "
   ]
  },
  {
   "cell_type": "markdown",
   "id": "09c248bc",
   "metadata": {},
   "source": [
    "In my system the number is 60, which means that if the DataFrame contains more than 60 rows,\n",
    "the print(df) statement will return only the headers and the first and last 5 rows.\n",
    "\n",
    "You can change the maximum rows number with the same statement."
   ]
  },
  {
   "cell_type": "markdown",
   "id": "ad8e5a86",
   "metadata": {},
   "source": [
    "pd.options.display.max_rows = 9999\n",
    "\n",
    "df = pd.read_csv('data.csv')\n",
    "\n",
    "print(df) "
   ]
  },
  {
   "cell_type": "markdown",
   "id": "2dcbc18e",
   "metadata": {},
   "source": [
    "Big data sets are often stored, or extracted as JSON.\n",
    "\n",
    "JSON is plain text, but has the format of an object, and is well known in the world of programming, including Pandas.\n",
    "\n",
    "In our examples we will be using a JSON file called 'data.json'.\n",
    "\n",
    "Open data.json."
   ]
  },
  {
   "cell_type": "markdown",
   "id": "06a7050b",
   "metadata": {},
   "source": [
    "JSON = Python Dictionary\n",
    "\n",
    "JSON objects have the same format as Python dictionaries."
   ]
  },
  {
   "cell_type": "code",
   "execution_count": null,
   "id": "66d5d1f7",
   "metadata": {},
   "outputs": [],
   "source": []
  }
 ],
 "metadata": {
  "kernelspec": {
   "display_name": "Python 3 (ipykernel)",
   "language": "python",
   "name": "python3"
  },
  "language_info": {
   "codemirror_mode": {
    "name": "ipython",
    "version": 3
   },
   "file_extension": ".py",
   "mimetype": "text/x-python",
   "name": "python",
   "nbconvert_exporter": "python",
   "pygments_lexer": "ipython3",
   "version": "3.10.0"
  }
 },
 "nbformat": 4,
 "nbformat_minor": 5
}
