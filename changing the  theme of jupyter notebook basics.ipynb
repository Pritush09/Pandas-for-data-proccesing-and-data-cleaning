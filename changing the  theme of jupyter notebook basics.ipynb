{
 "cells": [
  {
   "cell_type": "code",
   "execution_count": 1,
   "id": "0373a81c",
   "metadata": {},
   "outputs": [
    {
     "name": "stdout",
     "output_type": "stream",
     "text": [
      "Requirement already satisfied: jupyterthemes in c:\\users\\mynam\\appdata\\local\\programs\\python\\python310\\lib\\site-packages (0.20.0)\n",
      "Requirement already satisfied: jupyter-core in c:\\users\\mynam\\appdata\\local\\programs\\python\\python310\\lib\\site-packages (from jupyterthemes) (4.9.1)\n",
      "Requirement already satisfied: ipython>=5.4.1 in c:\\users\\mynam\\appdata\\local\\programs\\python\\python310\\lib\\site-packages (from jupyterthemes) (7.30.1)\n",
      "Requirement already satisfied: notebook>=5.6.0 in c:\\users\\mynam\\appdata\\local\\programs\\python\\python310\\lib\\site-packages (from jupyterthemes) (6.4.6)\n",
      "Requirement already satisfied: matplotlib>=1.4.3 in c:\\users\\mynam\\appdata\\local\\programs\\python\\python310\\lib\\site-packages (from jupyterthemes) (3.4.3)\n",
      "Requirement already satisfied: lesscpy>=0.11.2 in c:\\users\\mynam\\appdata\\local\\programs\\python\\python310\\lib\\site-packages (from jupyterthemes) (0.15.0)\n",
      "Requirement already satisfied: pygments in c:\\users\\mynam\\appdata\\local\\programs\\python\\python310\\lib\\site-packages (from ipython>=5.4.1->jupyterthemes) (2.10.0)\n",
      "Requirement already satisfied: pickleshare in c:\\users\\mynam\\appdata\\local\\programs\\python\\python310\\lib\\site-packages (from ipython>=5.4.1->jupyterthemes) (0.7.5)\n",
      "Requirement already satisfied: prompt-toolkit!=3.0.0,!=3.0.1,<3.1.0,>=2.0.0 in c:\\users\\mynam\\appdata\\local\\programs\\python\\python310\\lib\\site-packages (from ipython>=5.4.1->jupyterthemes) (3.0.23)\n",
      "Requirement already satisfied: matplotlib-inline in c:\\users\\mynam\\appdata\\local\\programs\\python\\python310\\lib\\site-packages (from ipython>=5.4.1->jupyterthemes) (0.1.3)\n",
      "Requirement already satisfied: setuptools>=18.5 in c:\\users\\mynam\\appdata\\local\\programs\\python\\python310\\lib\\site-packages (from ipython>=5.4.1->jupyterthemes) (57.4.0)\n",
      "Requirement already satisfied: colorama in c:\\users\\mynam\\appdata\\local\\programs\\python\\python310\\lib\\site-packages (from ipython>=5.4.1->jupyterthemes) (0.4.4)\n",
      "Requirement already satisfied: jedi>=0.16 in c:\\users\\mynam\\appdata\\local\\programs\\python\\python310\\lib\\site-packages (from ipython>=5.4.1->jupyterthemes) (0.18.1)\n",
      "Requirement already satisfied: backcall in c:\\users\\mynam\\appdata\\local\\programs\\python\\python310\\lib\\site-packages (from ipython>=5.4.1->jupyterthemes) (0.2.0)\n",
      "Requirement already satisfied: traitlets>=4.2 in c:\\users\\mynam\\appdata\\local\\programs\\python\\python310\\lib\\site-packages (from ipython>=5.4.1->jupyterthemes) (5.1.1)\n",
      "Requirement already satisfied: decorator in c:\\users\\mynam\\appdata\\local\\programs\\python\\python310\\lib\\site-packages (from ipython>=5.4.1->jupyterthemes) (5.1.0)\n",
      "Requirement already satisfied: ply in c:\\users\\mynam\\appdata\\local\\programs\\python\\python310\\lib\\site-packages (from lesscpy>=0.11.2->jupyterthemes) (3.11)\n",
      "Requirement already satisfied: six in c:\\users\\mynam\\appdata\\roaming\\python\\python310\\site-packages (from lesscpy>=0.11.2->jupyterthemes) (1.16.0)\n",
      "Requirement already satisfied: numpy>=1.16 in c:\\users\\mynam\\appdata\\roaming\\python\\python310\\site-packages (from matplotlib>=1.4.3->jupyterthemes) (1.21.3)\n",
      "Requirement already satisfied: python-dateutil>=2.7 in c:\\users\\mynam\\appdata\\roaming\\python\\python310\\site-packages (from matplotlib>=1.4.3->jupyterthemes) (2.8.2)\n",
      "Requirement already satisfied: cycler>=0.10 in c:\\users\\mynam\\appdata\\local\\programs\\python\\python310\\lib\\site-packages (from matplotlib>=1.4.3->jupyterthemes) (0.10.0)\n",
      "Requirement already satisfied: pillow>=6.2.0 in c:\\users\\mynam\\appdata\\local\\programs\\python\\python310\\lib\\site-packages (from matplotlib>=1.4.3->jupyterthemes) (8.4.0)\n",
      "Requirement already satisfied: pyparsing>=2.2.1 in c:\\users\\mynam\\appdata\\local\\programs\\python\\python310\\lib\\site-packages (from matplotlib>=1.4.3->jupyterthemes) (3.0.3)\n",
      "Requirement already satisfied: kiwisolver>=1.0.1 in c:\\users\\mynam\\appdata\\local\\programs\\python\\python310\\lib\\site-packages (from matplotlib>=1.4.3->jupyterthemes) (1.3.2)\n",
      "Requirement already satisfied: jupyter-client>=5.3.4 in c:\\users\\mynam\\appdata\\local\\programs\\python\\python310\\lib\\site-packages (from notebook>=5.6.0->jupyterthemes) (7.1.0)\n",
      "Requirement already satisfied: jinja2 in c:\\users\\mynam\\appdata\\local\\programs\\python\\python310\\lib\\site-packages (from notebook>=5.6.0->jupyterthemes) (3.0.3)\n",
      "Requirement already satisfied: nest-asyncio>=1.5 in c:\\users\\mynam\\appdata\\local\\programs\\python\\python310\\lib\\site-packages (from notebook>=5.6.0->jupyterthemes) (1.5.4)\n",
      "Requirement already satisfied: argon2-cffi in c:\\users\\mynam\\appdata\\local\\programs\\python\\python310\\lib\\site-packages (from notebook>=5.6.0->jupyterthemes) (21.1.0)\n",
      "Requirement already satisfied: Send2Trash>=1.8.0 in c:\\users\\mynam\\appdata\\local\\programs\\python\\python310\\lib\\site-packages (from notebook>=5.6.0->jupyterthemes) (1.8.0)\n",
      "Requirement already satisfied: ipython-genutils in c:\\users\\mynam\\appdata\\local\\programs\\python\\python310\\lib\\site-packages (from notebook>=5.6.0->jupyterthemes) (0.2.0)\n",
      "Requirement already satisfied: terminado>=0.8.3 in c:\\users\\mynam\\appdata\\local\\programs\\python\\python310\\lib\\site-packages (from notebook>=5.6.0->jupyterthemes) (0.12.1)\n",
      "Requirement already satisfied: ipykernel in c:\\users\\mynam\\appdata\\local\\programs\\python\\python310\\lib\\site-packages (from notebook>=5.6.0->jupyterthemes) (6.6.0)\n",
      "Requirement already satisfied: nbformat in c:\\users\\mynam\\appdata\\local\\programs\\python\\python310\\lib\\site-packages (from notebook>=5.6.0->jupyterthemes) (5.1.3)\n",
      "Requirement already satisfied: nbconvert in c:\\users\\mynam\\appdata\\local\\programs\\python\\python310\\lib\\site-packages (from notebook>=5.6.0->jupyterthemes) (6.3.0)\n",
      "Requirement already satisfied: pyzmq>=17 in c:\\users\\mynam\\appdata\\local\\programs\\python\\python310\\lib\\site-packages (from notebook>=5.6.0->jupyterthemes) (22.3.0)\n",
      "Requirement already satisfied: prometheus-client in c:\\users\\mynam\\appdata\\local\\programs\\python\\python310\\lib\\site-packages (from notebook>=5.6.0->jupyterthemes) (0.12.0)\n",
      "Requirement already satisfied: tornado>=6.1 in c:\\users\\mynam\\appdata\\local\\programs\\python\\python310\\lib\\site-packages (from notebook>=5.6.0->jupyterthemes) (6.1)\n",
      "Requirement already satisfied: pywin32>=1.0 in c:\\users\\mynam\\appdata\\local\\programs\\python\\python310\\lib\\site-packages (from jupyter-core->jupyterthemes) (302)\n",
      "Requirement already satisfied: parso<0.9.0,>=0.8.0 in c:\\users\\mynam\\appdata\\local\\programs\\python\\python310\\lib\\site-packages (from jedi>=0.16->ipython>=5.4.1->jupyterthemes) (0.8.3)\n",
      "Requirement already satisfied: entrypoints in c:\\users\\mynam\\appdata\\local\\programs\\python\\python310\\lib\\site-packages (from jupyter-client>=5.3.4->notebook>=5.6.0->jupyterthemes) (0.3)\n",
      "Requirement already satisfied: wcwidth in c:\\users\\mynam\\appdata\\local\\programs\\python\\python310\\lib\\site-packages (from prompt-toolkit!=3.0.0,!=3.0.1,<3.1.0,>=2.0.0->ipython>=5.4.1->jupyterthemes) (0.2.5)\n",
      "Requirement already satisfied: pywinpty>=1.1.0 in c:\\users\\mynam\\appdata\\local\\programs\\python\\python310\\lib\\site-packages (from terminado>=0.8.3->notebook>=5.6.0->jupyterthemes) (1.1.6)\n",
      "Requirement already satisfied: cffi>=1.0.0 in c:\\users\\mynam\\appdata\\local\\programs\\python\\python310\\lib\\site-packages (from argon2-cffi->notebook>=5.6.0->jupyterthemes) (1.15.0)\n",
      "Requirement already satisfied: debugpy<2.0,>=1.0.0 in c:\\users\\mynam\\appdata\\local\\programs\\python\\python310\\lib\\site-packages (from ipykernel->notebook>=5.6.0->jupyterthemes) (1.5.1)\n",
      "Requirement already satisfied: MarkupSafe>=2.0 in c:\\users\\mynam\\appdata\\local\\programs\\python\\python310\\lib\\site-packages (from jinja2->notebook>=5.6.0->jupyterthemes) (2.0.1)\n",
      "Requirement already satisfied: nbclient<0.6.0,>=0.5.0 in c:\\users\\mynam\\appdata\\local\\programs\\python\\python310\\lib\\site-packages (from nbconvert->notebook>=5.6.0->jupyterthemes) (0.5.9)\n",
      "Requirement already satisfied: mistune<2,>=0.8.1 in c:\\users\\mynam\\appdata\\local\\programs\\python\\python310\\lib\\site-packages (from nbconvert->notebook>=5.6.0->jupyterthemes) (0.8.4)\n",
      "Requirement already satisfied: defusedxml in c:\\users\\mynam\\appdata\\local\\programs\\python\\python310\\lib\\site-packages (from nbconvert->notebook>=5.6.0->jupyterthemes) (0.7.1)\n",
      "Requirement already satisfied: jupyterlab-pygments in c:\\users\\mynam\\appdata\\local\\programs\\python\\python310\\lib\\site-packages (from nbconvert->notebook>=5.6.0->jupyterthemes) (0.1.2)\n",
      "Requirement already satisfied: pandocfilters>=1.4.1 in c:\\users\\mynam\\appdata\\local\\programs\\python\\python310\\lib\\site-packages (from nbconvert->notebook>=5.6.0->jupyterthemes) (1.5.0)\n",
      "Requirement already satisfied: bleach in c:\\users\\mynam\\appdata\\local\\programs\\python\\python310\\lib\\site-packages (from nbconvert->notebook>=5.6.0->jupyterthemes) (4.1.0)\n",
      "Requirement already satisfied: testpath in c:\\users\\mynam\\appdata\\local\\programs\\python\\python310\\lib\\site-packages (from nbconvert->notebook>=5.6.0->jupyterthemes) (0.5.0)\n",
      "Requirement already satisfied: jsonschema!=2.5.0,>=2.4 in c:\\users\\mynam\\appdata\\local\\programs\\python\\python310\\lib\\site-packages (from nbformat->notebook>=5.6.0->jupyterthemes) (4.2.1)\n",
      "Requirement already satisfied: pycparser in c:\\users\\mynam\\appdata\\local\\programs\\python\\python310\\lib\\site-packages (from cffi>=1.0.0->argon2-cffi->notebook>=5.6.0->jupyterthemes) (2.21)\n",
      "Requirement already satisfied: attrs>=17.4.0 in c:\\users\\mynam\\appdata\\local\\programs\\python\\python310\\lib\\site-packages (from jsonschema!=2.5.0,>=2.4->nbformat->notebook>=5.6.0->jupyterthemes) (21.2.0)\n",
      "Requirement already satisfied: pyrsistent!=0.17.0,!=0.17.1,!=0.17.2,>=0.14.0 in c:\\users\\mynam\\appdata\\local\\programs\\python\\python310\\lib\\site-packages (from jsonschema!=2.5.0,>=2.4->nbformat->notebook>=5.6.0->jupyterthemes) (0.18.0)\n",
      "Requirement already satisfied: webencodings in c:\\users\\mynam\\appdata\\local\\programs\\python\\python310\\lib\\site-packages (from bleach->nbconvert->notebook>=5.6.0->jupyterthemes) (0.5.1)\n",
      "Requirement already satisfied: packaging in c:\\users\\mynam\\appdata\\local\\programs\\python\\python310\\lib\\site-packages (from bleach->nbconvert->notebook>=5.6.0->jupyterthemes) (21.3)\n"
     ]
    }
   ],
   "source": [
    "!pip install jupyterthemes "
   ]
  },
  {
   "cell_type": "code",
   "execution_count": 2,
   "id": "e5e7e29a",
   "metadata": {},
   "outputs": [
    {
     "name": "stdout",
     "output_type": "stream",
     "text": [
      "Available Themes: \n",
      "   chesterish\n",
      "   grade3\n",
      "   gruvboxd\n",
      "   gruvboxl\n",
      "   monokai\n",
      "   oceans16\n",
      "   onedork\n",
      "   solarizedd\n",
      "   solarizedl\n"
     ]
    }
   ],
   "source": [
    "! jt -l"
   ]
  },
  {
   "cell_type": "code",
   "execution_count": 3,
   "id": "19ab5a35",
   "metadata": {},
   "outputs": [],
   "source": [
    "!jt -t onedork "
   ]
  },
  {
   "cell_type": "code",
   "execution_count": 4,
   "id": "6ed67ffa",
   "metadata": {},
   "outputs": [],
   "source": [
    "!jt -t monokai"
   ]
  },
  {
   "cell_type": "code",
   "execution_count": 5,
   "id": "40ca88da",
   "metadata": {},
   "outputs": [],
   "source": [
    "!jt -t monokai -T -N"
   ]
  },
  {
   "cell_type": "code",
   "execution_count": null,
   "id": "ddad1eaa",
   "metadata": {},
   "outputs": [],
   "source": []
  }
 ],
 "metadata": {
  "kernelspec": {
   "display_name": "Python 3 (ipykernel)",
   "language": "python",
   "name": "python3"
  },
  "language_info": {
   "codemirror_mode": {
    "name": "ipython",
    "version": 3
   },
   "file_extension": ".py",
   "mimetype": "text/x-python",
   "name": "python",
   "nbconvert_exporter": "python",
   "pygments_lexer": "ipython3",
   "version": "3.10.0"
  }
 },
 "nbformat": 4,
 "nbformat_minor": 5
}
